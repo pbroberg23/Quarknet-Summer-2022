{
  "cells": [
    {
      "cell_type": "markdown",
      "metadata": {
        "id": "cPZbMSUV2ZwP"
      },
      "source": [
        "# B-Field Variation\n",
        "Does the magnetic field around your workspace have the same magnitude as outside? Perform an investigation to answer that and replace the **pseudocode** below with a [Holmes' t' analysis](https://docs.google.com/document/d/1cjAfYwbG4IrwirHMPnvo87ZYdPTXBAWQAny4b1eVclE/edit?usp=sharing) of data you collect."
      ]
    },
    {
      "cell_type": "code",
      "execution_count": null,
      "metadata": {
        "id": "-qfAYQQE2ZwT"
      },
      "outputs": [],
      "source": [
        "# import modules needed\n",
        "import "
      ]
    },
    {
      "cell_type": "code",
      "execution_count": null,
      "metadata": {
        "id": "vrv0znPj2ZwW"
      },
      "outputs": [],
      "source": [
        "# read in data files"
      ]
    },
    {
      "cell_type": "code",
      "execution_count": null,
      "metadata": {
        "id": "C0YzI_Tr2ZwX"
      },
      "outputs": [],
      "source": [
        "# caluclate a Holmes t' to compare the two samples"
      ]
    },
    {
      "cell_type": "code",
      "execution_count": null,
      "metadata": {
        "id": "oYonuIVC2ZwZ"
      },
      "outputs": [],
      "source": [
        "# vizualize data to highlight relvant pattern"
      ]
    },
    {
      "cell_type": "code",
      "execution_count": null,
      "metadata": {
        "id": "AdkZozwQ2Zwb"
      },
      "outputs": [],
      "source": [
        "# answer the research question in claim-evidence-reasoning style"
      ]
    },
    {
      "cell_type": "markdown",
      "metadata": {
        "id": "H3EvdLij2Zwd"
      },
      "source": [
        "# When you're ready ...\n",
        "Check in with a workshop facilitator and give them a link to an interactive version of this notebook. Be sure it doesn't give edit priviledges."
      ]
    }
  ],
  "metadata": {
    "kernelspec": {
      "display_name": "Python 3 (ipykernel)",
      "language": "python",
      "name": "python3"
    },
    "language_info": {
      "codemirror_mode": {
        "name": "ipython",
        "version": 3
      },
      "file_extension": ".py",
      "mimetype": "text/x-python",
      "name": "python",
      "nbconvert_exporter": "python",
      "pygments_lexer": "ipython3",
      "version": "3.9.7"
    },
    "colab": {
      "name": "B_field_variation.ipynb",
      "provenance": []
    }
  },
  "nbformat": 4,
  "nbformat_minor": 0
}